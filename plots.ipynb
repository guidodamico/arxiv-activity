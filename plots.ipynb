{
 "metadata": {
  "name": "",
  "signature": "sha256:4d0538e151d9bd38b5d3a2fdfa2f4cc59912493d71526c5da5033d94655e1c17"
 },
 "nbformat": 3,
 "nbformat_minor": 0,
 "worksheets": [
  {
   "cells": [
    {
     "cell_type": "code",
     "collapsed": false,
     "input": [
      "%matplotlib inline\n",
      "import matplotlib.pyplot as plt\n",
      "import pandas as pd\n",
      "import seaborn as sns\n",
      "import calendar"
     ],
     "language": "python",
     "metadata": {},
     "outputs": [],
     "prompt_number": 1
    },
    {
     "cell_type": "code",
     "collapsed": false,
     "input": [
      "#papers_df = pd.read_csv('number_of_papers.csv', parse_dates=[0], index_col=0)\n",
      "papers_df = pd.read_csv('number_of_papers.csv', parse_dates=[0])"
     ],
     "language": "python",
     "metadata": {},
     "outputs": [],
     "prompt_number": 2
    },
    {
     "cell_type": "code",
     "collapsed": false,
     "input": [
      "papers_df.head()"
     ],
     "language": "python",
     "metadata": {},
     "outputs": [
      {
       "html": [
        "<div style=\"max-height:1000px;max-width:1500px;overflow:auto;\">\n",
        "<table border=\"1\" class=\"dataframe\">\n",
        "  <thead>\n",
        "    <tr style=\"text-align: right;\">\n",
        "      <th></th>\n",
        "      <th>date</th>\n",
        "      <th>hep-th</th>\n",
        "      <th>hep-ph</th>\n",
        "      <th>gr-qc</th>\n",
        "      <th>astro-ph.CO</th>\n",
        "      <th>astro-ph.HE</th>\n",
        "      <th>astro-ph.IM</th>\n",
        "      <th>astro-ph.EP</th>\n",
        "    </tr>\n",
        "  </thead>\n",
        "  <tbody>\n",
        "    <tr>\n",
        "      <th>0</th>\n",
        "      <td>2009-01-21</td>\n",
        "      <td>  9</td>\n",
        "      <td> 10</td>\n",
        "      <td> 11</td>\n",
        "      <td>  9</td>\n",
        "      <td> 5</td>\n",
        "      <td> 3</td>\n",
        "      <td> 4</td>\n",
        "    </tr>\n",
        "    <tr>\n",
        "      <th>1</th>\n",
        "      <td>2009-01-22</td>\n",
        "      <td> 12</td>\n",
        "      <td> 20</td>\n",
        "      <td>  1</td>\n",
        "      <td> 11</td>\n",
        "      <td> 5</td>\n",
        "      <td> 3</td>\n",
        "      <td> 3</td>\n",
        "    </tr>\n",
        "    <tr>\n",
        "      <th>2</th>\n",
        "      <td>2009-01-23</td>\n",
        "      <td> 18</td>\n",
        "      <td> 14</td>\n",
        "      <td>  9</td>\n",
        "      <td>  9</td>\n",
        "      <td> 6</td>\n",
        "      <td> 2</td>\n",
        "      <td> 1</td>\n",
        "    </tr>\n",
        "    <tr>\n",
        "      <th>3</th>\n",
        "      <td>2009-01-24</td>\n",
        "      <td>  2</td>\n",
        "      <td>  5</td>\n",
        "      <td>  2</td>\n",
        "      <td>  7</td>\n",
        "      <td> 3</td>\n",
        "      <td> 0</td>\n",
        "      <td> 0</td>\n",
        "    </tr>\n",
        "    <tr>\n",
        "      <th>4</th>\n",
        "      <td>2009-01-25</td>\n",
        "      <td>  3</td>\n",
        "      <td>  2</td>\n",
        "      <td>  6</td>\n",
        "      <td>  1</td>\n",
        "      <td> 0</td>\n",
        "      <td> 0</td>\n",
        "      <td> 2</td>\n",
        "    </tr>\n",
        "  </tbody>\n",
        "</table>\n",
        "</div>"
       ],
       "metadata": {},
       "output_type": "pyout",
       "prompt_number": 3,
       "text": [
        "        date  hep-th  hep-ph  gr-qc  astro-ph.CO  astro-ph.HE  astro-ph.IM  \\\n",
        "0 2009-01-21       9      10     11            9            5            3   \n",
        "1 2009-01-22      12      20      1           11            5            3   \n",
        "2 2009-01-23      18      14      9            9            6            2   \n",
        "3 2009-01-24       2       5      2            7            3            0   \n",
        "4 2009-01-25       3       2      6            1            0            0   \n",
        "\n",
        "   astro-ph.EP  \n",
        "0            4  \n",
        "1            3  \n",
        "2            1  \n",
        "3            0  \n",
        "4            2  "
       ]
      }
     ],
     "prompt_number": 3
    },
    {
     "cell_type": "code",
     "collapsed": false,
     "input": [
      "papers_df.info()"
     ],
     "language": "python",
     "metadata": {},
     "outputs": [
      {
       "output_type": "stream",
       "stream": "stdout",
       "text": [
        "<class 'pandas.core.frame.DataFrame'>\n",
        "Int64Index: 2131 entries, 0 to 2130\n",
        "Data columns (total 8 columns):\n",
        "date           2131 non-null datetime64[ns]\n",
        "hep-th         2131 non-null int64\n",
        "hep-ph         2131 non-null int64\n",
        "gr-qc          2131 non-null int64\n",
        "astro-ph.CO    2131 non-null int64\n",
        "astro-ph.HE    2131 non-null int64\n",
        "astro-ph.IM    2131 non-null int64\n",
        "astro-ph.EP    2131 non-null int64\n",
        "dtypes: datetime64[ns](1), int64(7)\n",
        "memory usage: 149.8 KB\n"
       ]
      }
     ],
     "prompt_number": 4
    },
    {
     "cell_type": "code",
     "collapsed": false,
     "input": [
      "papers_df['weekday'] = papers_df['date'].apply(lambda x: x.weekday())"
     ],
     "language": "python",
     "metadata": {},
     "outputs": [],
     "prompt_number": 5
    },
    {
     "cell_type": "code",
     "collapsed": false,
     "input": [
      "papers_df.boxplot(column=['hep-th', 'hep-ph',\n",
      "                          'gr-qc', 'astro-ph.CO'], by='weekday')"
     ],
     "language": "python",
     "metadata": {},
     "outputs": [
      {
       "metadata": {},
       "output_type": "pyout",
       "prompt_number": 20,
       "text": [
        "array([[<matplotlib.axes._subplots.AxesSubplot object at 0x10ec2acd0>,\n",
        "        <matplotlib.axes._subplots.AxesSubplot object at 0x10ec76990>],\n",
        "       [<matplotlib.axes._subplots.AxesSubplot object at 0x10ecf8850>,\n",
        "        <matplotlib.axes._subplots.AxesSubplot object at 0x10ef0e650>]], dtype=object)"
       ]
      },
      {
       "metadata": {},
       "output_type": "display_data",
       "png": "[encoded data removed]",
       "text": [
        "<matplotlib.figure.Figure at 0x10e657d90>"
       ]
      }
     ],
     "prompt_number": 20
    },
    {
     "cell_type": "code",
     "collapsed": false,
     "input": [
      "papers_df.boxplot(column=['astro-ph.CO', 'astro-ph.HE',\n",
      "                          'astro-ph.IM', 'astro-ph.EP'], by='weekday')"
     ],
     "language": "python",
     "metadata": {},
     "outputs": [
      {
       "metadata": {},
       "output_type": "pyout",
       "prompt_number": 19,
       "text": [
        "array([[<matplotlib.axes._subplots.AxesSubplot object at 0x10e064890>,\n",
        "        <matplotlib.axes._subplots.AxesSubplot object at 0x10e0ee510>],\n",
        "       [<matplotlib.axes._subplots.AxesSubplot object at 0x10e26b5d0>,\n",
        "        <matplotlib.axes._subplots.AxesSubplot object at 0x10e2d0550>]], dtype=object)"
       ]
      },
      {
       "metadata": {},
       "output_type": "display_data",
       "png": "[encoded data removed]",
       "text": [
        "<matplotlib.figure.Figure at 0x109ede7d0>"
       ]
      }
     ],
     "prompt_number": 19
    },
    {
     "cell_type": "code",
     "collapsed": false,
     "input": [],
     "language": "python",
     "metadata": {},
     "outputs": []
    }
   ],
   "metadata": {}
  }
 ]
}